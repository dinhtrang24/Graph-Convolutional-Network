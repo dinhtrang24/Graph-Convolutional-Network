{
 "cells": [
  {
   "cell_type": "markdown",
   "metadata": {},
   "source": [
    "# Introduction to Graph Convolutional Network (GCN)\n",
    "## 1. Overview\n",
    "* Graph Convolutional Network (GCN) is a neural network which operates on graphs.\n",
    "* How GCNs work in general?\n",
    "    * GCN can be understood as a simple message passing algorithm. \n",
    "    ![img](image/message_passing.png)\n",
    "    * The idea of message passing in a graph is a really powerful concept because a lot of graph algorithms can be understood from that perspective. In a nutshell the idea is that a node in a graph can send and receive messages along its connections with its neighbors. \n",
    "    * This can be thought of as happening in two steps: first, nodes will send out a message about itself to its neighbors and next, nodes collect the neighbor messages they receive and use them in some way to update itself and understand its environment. \n",
    "    * Let's make this concrete by talking through a simple calculation and GCN layer.\n",
    "    \n",
    "   ![img](image/message_passing2.png)"
   ]
  },
  {
   "cell_type": "markdown",
   "metadata": {},
   "source": [
    "For any node in the graph, first get all of the attribute vectors of its connected nodes, and apply some aggregation function (propagation rule) like an average. It makes some intuitive sense that a node might be represented by the average of its neighbors. Next, pass this average vector through a dense neural network layer which is a fancy way of saying multiply it by some matrix and apply an activation function. The output of this dense layer is the new vector representation of the node. So now, a node is not just an average of its neighbor but the average of its neigbors passed through some nonlinear function. So this is the process of how a single GCN layer works. "
   ]
  },
  {
   "cell_type": "markdown",
   "metadata": {},
   "source": [
    "# 2. Example of Code\n",
    "* Given a graph $G = (V, E)$ takes as input:\n",
    "    * An input feature matrix $N \\times F^0$ feature matrix, $X$, where $N$ is the number of nodes and $F^0$ is the number of input features for each node, and\n",
    "    * An $N \\times N$ matrix representation of the graph structure such as the adjacency matrix $A$ of $G$.\n",
    "* A hidden layer in GCN can be written as $H^i = f(H^{i-1}, A))$ where $H^0 = X$ and $f$ is a propagation. Each layer $H^i$ corresponds to an $N \\times F^i$ feature matrix where each row is a feature representation of a node.\n",
    "* The specific models then differ only in the choice of $f$. One of the simplesr possible propagation rule is:\n",
    "\n",
    "    $f(H^i, A) = \\sigma(AH^iW^i)$\n",
    "\n",
    "    where $W^i$ is the weight matrix for layer $i$ and $\\sigma$ is a non-linear activation function.\n",
    "\n"
   ]
  },
  {
   "cell_type": "markdown",
   "metadata": {},
   "source": [
    "### Let's create a simple directed graph\n",
    "https://networkx.org/documentation/stable/tutorial.html#creating-a-graph"
   ]
  },
  {
   "cell_type": "code",
   "execution_count": 2,
   "metadata": {},
   "outputs": [],
   "source": [
    "import numpy as np\n",
    "import matplotlib.pyplot as plt\n",
    "import pandas as pd\n",
    "import networkx as nx\n",
    "from scipy.linalg import fractional_matrix_power\n",
    "from spektral import utils"
   ]
  },
  {
   "cell_type": "code",
   "execution_count": 39,
   "metadata": {},
   "outputs": [],
   "source": [
    "np.set_printoptions(precision=3)"
   ]
  },
  {
   "cell_type": "code",
   "execution_count": 18,
   "metadata": {},
   "outputs": [
    {
     "data": {
      "image/png": "[encoded data removed]",
      "text/plain": [
       "<Figure size 432x288 with 1 Axes>"
      ]
     },
     "metadata": {},
     "output_type": "display_data"
    }
   ],
   "source": [
    "G = nx.Graph(directed=True)\n",
    "G.add_nodes_from([1,2,3,4])\n",
    "G.add_edges_from([(1,2), (2,3), (2,4), (4,1),(4,3)])\n",
    "nx.draw(G, with_labels=True)"
   ]
  },
  {
   "cell_type": "markdown",
   "metadata": {},
   "source": [
    "### Find the adjacency matrix"
   ]
  },
  {
   "cell_type": "code",
   "execution_count": 14,
   "metadata": {},
   "outputs": [
    {
     "data": {
      "text/plain": [
       "matrix([[0, 1, 0, 1],\n",
       "        [1, 0, 1, 1],\n",
       "        [0, 1, 0, 1],\n",
       "        [1, 1, 1, 0]], dtype=int64)"
      ]
     },
     "execution_count": 14,
     "metadata": {},
     "output_type": "execute_result"
    }
   ],
   "source": [
    "A = nx.adjacency_matrix(G).todense()\n",
    "A"
   ]
  },
  {
   "cell_type": "markdown",
   "metadata": {},
   "source": [
    "Since we have 4 nodes so our adjacency matrix have 4 rows and 4 column. The first row will encode all the connections of node 1. Since node 1 is only connected with node 2 and 4, we have the value of 1 in second and fourth column, and zero in all the others. We do the same for node 2,3,4 in the next rows. "
   ]
  },
  {
   "cell_type": "markdown",
   "metadata": {},
   "source": [
    "Next, we need features.  We generate 2 integer features for every node based on its index. This makes it easy to confirm the matrix calculations manually later.\n"
   ]
  },
  {
   "cell_type": "code",
   "execution_count": 20,
   "metadata": {},
   "outputs": [
    {
     "data": {
      "text/plain": [
       "matrix([[ 0.,  0.],\n",
       "        [ 1., -1.],\n",
       "        [ 2., -2.],\n",
       "        [ 3., -3.]])"
      ]
     },
     "execution_count": 20,
     "metadata": {},
     "output_type": "execute_result"
    }
   ],
   "source": [
    "X = np.matrix([[i, -i]\n",
    "            for i in range(A.shape[0])], dtype=float)\n",
    "X"
   ]
  },
  {
   "cell_type": "markdown",
   "metadata": {},
   "source": [
    "### Applying the Propagation Rule\n",
    "Let’s examine the propagation rule at its most simple level. Let\n",
    "* $i = 1$\n",
    "* $\\sigma$ be the identity function\n",
    "* choose the weight s.t $AH^0W^0 = AXW^0 = AX$\n",
    "\n",
    "Thus, $f(X,A) = AX$."
   ]
  },
  {
   "cell_type": "code",
   "execution_count": 21,
   "metadata": {},
   "outputs": [
    {
     "data": {
      "text/plain": [
       "matrix([[ 4., -4.],\n",
       "        [ 5., -5.],\n",
       "        [ 4., -4.],\n",
       "        [ 3., -3.]])"
      ]
     },
     "execution_count": 21,
     "metadata": {},
     "output_type": "execute_result"
    }
   ],
   "source": [
    "A*X"
   ]
  },
  {
   "cell_type": "markdown",
   "metadata": {},
   "source": [
    "The representation of each node (each row) is now a sum of its neighbors features. In other words, the graph convolutional layer represents each node as an aggregate of its neighborhood. "
   ]
  },
  {
   "cell_type": "markdown",
   "metadata": {},
   "source": [
    "### Limitations\n",
    "* The aggregated representation of a node does not include its own features\n",
    "* Nodes with large degrees will have large values in their feature representation while nodes with small degrees will have small values. This can be solved by transforming the adjacency matrix $A$ by multiplying it with the inverse degree matrix $D$.\n",
    "    Thus, our propagation will look like this:\n",
    "    $f(X,A) = D^{-1} AX$"
   ]
  },
  {
   "cell_type": "code",
   "execution_count": 25,
   "metadata": {},
   "outputs": [
    {
     "data": {
      "text/plain": [
       "matrix([[1., 0., 0., 0.],\n",
       "        [0., 1., 0., 0.],\n",
       "        [0., 0., 1., 0.],\n",
       "        [0., 0., 0., 1.]])"
      ]
     },
     "execution_count": 25,
     "metadata": {},
     "output_type": "execute_result"
    }
   ],
   "source": [
    "# trick 1: adding self-loops\n",
    "I = np.matrix(np.eye(A.shape[0]))\n",
    "I"
   ]
  },
  {
   "cell_type": "code",
   "execution_count": 26,
   "metadata": {},
   "outputs": [
    {
     "data": {
      "text/plain": [
       "matrix([[ 4., -4.],\n",
       "        [ 6., -6.],\n",
       "        [ 6., -6.],\n",
       "        [ 6., -6.]])"
      ]
     },
     "execution_count": 26,
     "metadata": {},
     "output_type": "execute_result"
    }
   ],
   "source": [
    "A_hat = A + I\n",
    "A_hat * X"
   ]
  },
  {
   "cell_type": "code",
   "execution_count": 46,
   "metadata": {},
   "outputs": [
    {
     "data": {
      "text/plain": [
       "matrix([[1., 1., 0., 1.],\n",
       "        [1., 1., 1., 1.],\n",
       "        [0., 1., 1., 1.],\n",
       "        [1., 1., 1., 1.]])"
      ]
     },
     "execution_count": 46,
     "metadata": {},
     "output_type": "execute_result"
    }
   ],
   "source": [
    "A_hat"
   ]
  },
  {
   "cell_type": "code",
   "execution_count": 27,
   "metadata": {},
   "outputs": [
    {
     "data": {
      "text/plain": [
       "matrix([[2, 0, 0, 0],\n",
       "        [0, 3, 0, 0],\n",
       "        [0, 0, 2, 0],\n",
       "        [0, 0, 0, 3]], dtype=int64)"
      ]
     },
     "execution_count": 27,
     "metadata": {},
     "output_type": "execute_result"
    }
   ],
   "source": [
    "#trick 2: normalizing the feature representations\n",
    "# compute the degree matrix\n",
    "D = np.array(np.sum(np.array(A), axis=1))\n",
    "D = np.matrix(np.diag(D))\n",
    "D"
   ]
  },
  {
   "cell_type": "code",
   "execution_count": 30,
   "metadata": {},
   "outputs": [
    {
     "data": {
      "text/plain": [
       "matrix([[0.        , 0.5       , 0.        , 0.5       ],\n",
       "        [0.33333333, 0.        , 0.33333333, 0.33333333],\n",
       "        [0.        , 0.5       , 0.        , 0.5       ],\n",
       "        [0.33333333, 0.33333333, 0.33333333, 0.        ]])"
      ]
     },
     "execution_count": 30,
     "metadata": {},
     "output_type": "execute_result"
    }
   ],
   "source": [
    "#AFTER\n",
    "D**-1 * A"
   ]
  },
  {
   "cell_type": "code",
   "execution_count": 47,
   "metadata": {},
   "outputs": [
    {
     "data": {
      "text/plain": [
       "matrix([[0, 1, 0, 1],\n",
       "        [1, 0, 1, 1],\n",
       "        [0, 1, 0, 1],\n",
       "        [1, 1, 1, 0]], dtype=int64)"
      ]
     },
     "execution_count": 47,
     "metadata": {},
     "output_type": "execute_result"
    }
   ],
   "source": [
    "#BEFORE\n",
    "A"
   ]
  },
  {
   "cell_type": "markdown",
   "metadata": {},
   "source": [
    "Observe that the weights (the values) in each row of the adjacency matrix have been divided by the degree of the node corresponding to the row."
   ]
  },
  {
   "cell_type": "code",
   "execution_count": 31,
   "metadata": {},
   "outputs": [
    {
     "data": {
      "text/plain": [
       "matrix([[ 2.        , -2.        ],\n",
       "        [ 1.66666667, -1.66666667],\n",
       "        [ 2.        , -2.        ],\n",
       "        [ 1.        , -1.        ]])"
      ]
     },
     "execution_count": 31,
     "metadata": {},
     "output_type": "execute_result"
    }
   ],
   "source": [
    "# propagation rule with the transformed adjacency matrix\n",
    "D**-1 * A * X"
   ]
  },
  {
   "cell_type": "markdown",
   "metadata": {},
   "source": [
    "Notice that now node representations corresponding to the mean of the features of neighboring nodes."
   ]
  },
  {
   "cell_type": "markdown",
   "metadata": {},
   "source": [
    "### Combining these two tricks we have"
   ]
  },
  {
   "cell_type": "code",
   "execution_count": 40,
   "metadata": {},
   "outputs": [
    {
     "data": {
      "text/plain": [
       "matrix([[0.333, 0.333, 0.   , 0.333],\n",
       "        [0.25 , 0.25 , 0.25 , 0.25 ],\n",
       "        [0.   , 0.333, 0.333, 0.333],\n",
       "        [0.25 , 0.25 , 0.25 , 0.25 ]])"
      ]
     },
     "execution_count": 40,
     "metadata": {},
     "output_type": "execute_result"
    }
   ],
   "source": [
    "D_hat**-1 * A_hat"
   ]
  },
  {
   "cell_type": "markdown",
   "metadata": {},
   "source": [
    "So we can see that the matrix representation includes the node's own features and also is normalized."
   ]
  },
  {
   "cell_type": "markdown",
   "metadata": {},
   "source": [
    "### Propagation rule by Kipf & Welling (ICLR 2017)\n",
    "\n",
    "$f(H^i, A) = \\sigma(\\hat{D}^{-1/2}\\hat{A}\\hat{D}^{-1/2}H^iW^i)$\n",
    "\n",
    "with $\\hat{A} = A + I$, where $I$ is the identity matrix and  $\\hat{D}$ is the diagonal node degree matrix of $\\hat{A}$."
   ]
  },
  {
   "cell_type": "code",
   "execution_count": 36,
   "metadata": {},
   "outputs": [
    {
     "data": {
      "text/plain": [
       "matrix([[3., 0., 0., 0.],\n",
       "        [0., 4., 0., 0.],\n",
       "        [0., 0., 3., 0.],\n",
       "        [0., 0., 0., 4.]])"
      ]
     },
     "execution_count": 36,
     "metadata": {},
     "output_type": "execute_result"
    }
   ],
   "source": [
    "D_hat = np.array(np.sum(np.array(A_hat), axis=1))\n",
    "D_hat = np.matrix(np.diag(D_hat))\n",
    "D_hat"
   ]
  },
  {
   "cell_type": "code",
   "execution_count": 44,
   "metadata": {},
   "outputs": [
    {
     "data": {
      "text/plain": [
       "matrix([[0.333, 0.289, 0.   , 0.289],\n",
       "        [0.289, 0.25 , 0.289, 0.25 ],\n",
       "        [0.   , 0.289, 0.333, 0.289],\n",
       "        [0.289, 0.25 , 0.289, 0.25 ]])"
      ]
     },
     "execution_count": 44,
     "metadata": {},
     "output_type": "execute_result"
    }
   ],
   "source": [
    "fractional_matrix_power(D_hat,-0.5) * A_hat * fractional_matrix_power(D_hat, -0.5)"
   ]
  },
  {
   "cell_type": "code",
   "execution_count": 45,
   "metadata": {},
   "outputs": [
    {
     "data": {
      "text/plain": [
       "matrix([[0.333, 0.289, 0.   , 0.289],\n",
       "        [0.289, 0.25 , 0.289, 0.25 ],\n",
       "        [0.   , 0.289, 0.333, 0.289],\n",
       "        [0.289, 0.25 , 0.289, 0.25 ]])"
      ]
     },
     "execution_count": 45,
     "metadata": {},
     "output_type": "execute_result"
    }
   ],
   "source": [
    "utils.gcn_filter(A)"
   ]
  },
  {
   "cell_type": "markdown",
   "metadata": {},
   "source": [
    "In practice, dynamics get more interesting when we use a symmetric normalization (Kipf and Welling, 2017). \n",
    "\n",
    "Similar to the mean propagation rule, the propagation rule introduced in Kipf & Welling (ICLR 2017), which can be called Symmetric normalized Laplacian, normalizes the aggregate s.t. the aggregate feature representation remains roughly on the same scale as the input features. However, this rule weighs neighbor in the weighted sum higher if they have a low-degree and lower if they have a high-degree. In other words, Eigenvalues do not depend on degree of nodes. This may be useful when low-degree neighbors provide more useful information than high-degree neighbors. \n",
    "\n",
    "In our next example, we will utilize the GCN with propagation rule by Kipf and Welling to apply to out time series data set. "
   ]
  },
  {
   "cell_type": "markdown",
   "metadata": {},
   "source": [
    "## References\n",
    "* Kipf, T. N., & Welling, M. (2016). Semi-supervised classification with graph convolutional networks. arXiv preprint arXiv:1609.02907.\n",
    "* https://tkipf.github.io/graph-convolutional-networks/\n",
    "* https://towardsdatascience.com/how-to-do-deep-learning-on-graphs-with-graph-convolutional-networks-7d2250723780\n",
    "* https://www.youtube.com/watch?v=2KRAOZIULzw"
   ]
  }
 ],
 "metadata": {
  "kernelspec": {
   "display_name": "Python 3",
   "language": "python",
   "name": "python3"
  },
  "language_info": {
   "codemirror_mode": {
    "name": "ipython",
    "version": 3
   },
   "file_extension": ".py",
   "mimetype": "text/x-python",
   "name": "python",
   "nbconvert_exporter": "python",
   "pygments_lexer": "ipython3",
   "version": "3.8.2"
  }
 },
 "nbformat": 4,
 "nbformat_minor": 4
}
